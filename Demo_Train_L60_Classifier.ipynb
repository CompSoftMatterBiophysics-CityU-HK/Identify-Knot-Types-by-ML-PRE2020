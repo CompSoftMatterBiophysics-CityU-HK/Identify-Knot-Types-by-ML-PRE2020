{
 "cells": [
  {
   "cell_type": "markdown",
   "metadata": {},
   "source": [
    "# Demo Training a L60 Five-Knot Classifier\n",
    "\n",
    "**Author:** Kaiyuan Yang and Olafs Vandans<br>\n",
    "**Date created:** 2024/04/02<br>\n",
    "**Last modified:** 2024/04/03<br>\n",
    "**Description:** Training a polymer knot-type classifier based on LSTM with Tensorflow. This tutorial notebook reproduces the L60 results from Table 1 from the publication \"Identifying knot types of polymer conformations by machine learning\" [PhysRevE.101.022502](https://journals.aps.org/pre/abstract/10.1103/PhysRevE.101.022502)"
   ]
  },
  {
   "cell_type": "markdown",
   "metadata": {},
   "source": [
    "## Introduction\n",
    "\n",
    "The training data are polymers of length 60 (L60) of 5 different knot types (`knot 0`, `knot 31`, `knot 41`, `knot 52`, and `knot 51`). Each knot type has 200K polymer conformations. Each conformation is represented as a txt file of 3D xyz coordinates.\n",
    "\n",
    "We found recurrent neural network (RNN) works especially well for knot type classification, especially a refined formulation of RNN called long short-term memory (LSTM) architecture.\n",
    "\n",
    "We implement our networks using `Keras` with a `Tensorflow 2` backend and GPU support. For model development, we randomly partition the corresponding dataset into 72%, 18%, and 10% portions as training data, holdout validation data, and test data, respectively. The model is trained using the training dataset, with the training progress monitored by the holdout validation set. Models that achieve the best performance on the validation set during training are saved later for evaluation on test data.\n",
    "\n",
    "This notebook should reproduce the L60 results of the Table 1 from the publication:\n",
    "\n",
    "![Table1_L60_RNN_99acc](assets/Table1_L60_RNN_99acc.png)\n",
    "\n",
    "Let's get right into it!"
   ]
  },
  {
   "cell_type": "markdown",
   "metadata": {},
   "source": [
    "## Setup"
   ]
  },
  {
   "cell_type": "code",
   "execution_count": 1,
   "metadata": {},
   "outputs": [],
   "source": [
    "import numpy as np\n",
    "\n",
    "import datetime\n",
    "\n",
    "# for file path\n",
    "from glob import glob\n",
    "\n",
    "# for plotting\n",
    "import matplotlib.pyplot as plt\n",
    "from mpl_toolkits.mplot3d import Axes3D\n",
    "\n",
    "# for prediction metrics\n",
    "from sklearn.metrics import confusion_matrix, balanced_accuracy_score\n",
    "\n",
    "%matplotlib notebook"
   ]
  },
  {
   "cell_type": "code",
   "execution_count": 2,
   "metadata": {},
   "outputs": [
    {
     "name": "stdout",
     "output_type": "stream",
     "text": [
      "TF version:  2.4.0\n"
     ]
    }
   ],
   "source": [
    "# tensorflow, keras, and GPU\n",
    "import tensorflow as tf\n",
    "from tensorflow import keras\n",
    "import tensorflow.keras.backend as K\n",
    "from tensorflow.keras import models\n",
    "from tensorflow.keras.layers import Dense, LSTM, Bidirectional, Dropout\n",
    "\n",
    "\n",
    "### Configs for TF\n",
    "\n",
    "print(\"TF version: \", tf.version.VERSION)\n",
    "\n",
    "# clear previous keras session\n",
    "K.clear_session()\n",
    "\n",
    "config = tf.compat.v1.ConfigProto()\n",
    "config.gpu_options.allow_growth = True  # dynamically grow the memory used on the GPU\n",
    "sess = tf.compat.v1.Session(config=config)\n",
    "tf.compat.v1.keras.backend.set_session(sess)  # set this TensorFlow session as the default session for Keras\n",
    "\n",
    "# for TF2 dynamic growth of GPU memory\n",
    "# Allow memory growth for the GPU\n",
    "physical_devices = tf.config.experimental.list_physical_devices('GPU')\n",
    "tf.config.experimental.set_memory_growth(physical_devices[0], True)"
   ]
  },
  {
   "cell_type": "code",
   "execution_count": 3,
   "metadata": {},
   "outputs": [
    {
     "name": "stdout",
     "output_type": "stream",
     "text": [
      ">>> will use length L60, loading data from /tf/data/L60_Lp4_D9_circular_knot31/\n"
     ]
    }
   ],
   "source": [
    "# L60\n",
    "chain_length = 60\n",
    "# five knot types\n",
    "num_knot_types = 5\n",
    "# 200K conformations per knot type\n",
    "dataset_size = 200000\n",
    "\n",
    "split_pct = 90  # split 90% for train+val\n",
    "\n",
    "# folder with the conformation text files\n",
    "base_dir = \"/tf/data/L60_Lp4_D9_circular_knot\"\n",
    "\n",
    "# L60 200K generated Oct 31st 2019\n",
    "knot0_folder = base_dir + \"0/\"\n",
    "knot31_folder= base_dir + \"31/\"\n",
    "knot41_folder = base_dir + \"41/\"\n",
    "knot52_folder = base_dir + \"52/\"\n",
    "knot51_folder = base_dir + \"51/\"\n",
    "\n",
    "# (optional) save the pre-processed conformations as npy\n",
    "save_array_name = \"L60_Apr02_200K_knot0-31-41-52-51_\"\n",
    "\n",
    "print(\">>> will use length L{}, loading data from {}\"\\\n",
    "      .format(chain_length, knot31_folder))"
   ]
  },
  {
   "cell_type": "markdown",
   "metadata": {},
   "source": [
    "## Pre-processing"
   ]
  },
  {
   "cell_type": "markdown",
   "metadata": {},
   "source": [
    "### Shuffle and split the dataset\n",
    "\n",
    "Every chain_source_dir folder contains 200K txt files.\n",
    "Each `chain_type_index.txt` file is a list of xyz coordinates of the polymer knot."
   ]
  },
  {
   "cell_type": "code",
   "execution_count": 4,
   "metadata": {},
   "outputs": [],
   "source": [
    "# glob(path) will return a list of file names\n",
    "(cat0, cat1, cat2, cat3, cat4) = (\n",
    "    glob(knot0_folder + \"chain_0*\"),\n",
    "    glob(knot31_folder + \"chain_31*\"),\n",
    "    glob(knot41_folder + \"chain_41*\"),\n",
    "    glob(knot52_folder + \"chain_52*\"),\n",
    "    glob(knot51_folder + \"chain_51*\"))\n",
    "\n",
    "\n",
    "# shuffle the file names before splitting\n",
    "np.random.shuffle(cat0)\n",
    "np.random.shuffle(cat1)\n",
    "np.random.shuffle(cat2)\n",
    "np.random.shuffle(cat3)\n",
    "np.random.shuffle(cat4)"
   ]
  },
  {
   "cell_type": "code",
   "execution_count": 5,
   "metadata": {},
   "outputs": [
    {
     "name": "stdout",
     "output_type": "stream",
     "text": [
      "after shuffle>>>\n",
      "train_x_files is list of file names:  ['/tf/data/L60_Lp4_D9_circular_knot0/chain_0_163893.txt'\n",
      " '/tf/data/L60_Lp4_D9_circular_knot31/chain_31_13071.txt'\n",
      " '/tf/data/L60_Lp4_D9_circular_knot41/chain_41_152892.txt' ...\n",
      " '/tf/data/L60_Lp4_D9_circular_knot52/chain_52_122541.txt'\n",
      " '/tf/data/L60_Lp4_D9_circular_knot52/chain_52_51468.txt'\n",
      " '/tf/data/L60_Lp4_D9_circular_knot0/chain_0_155744.txt']\n",
      ">>>\n",
      "train_y should be list of 0 1 2... ints's:  [0 1 2 ... 3 3 0]\n",
      ">>>\n",
      "train_x_files shape:  (900000,)\n",
      "train_y shape:  (900000,)\n",
      ">>> test set:\n",
      "test_x_files snapshot:  ['/tf/data/L60_Lp4_D9_circular_knot41/chain_41_19782.txt'\n",
      " '/tf/data/L60_Lp4_D9_circular_knot0/chain_0_158955.txt'\n",
      " '/tf/data/L60_Lp4_D9_circular_knot41/chain_41_87870.txt' ...\n",
      " '/tf/data/L60_Lp4_D9_circular_knot52/chain_52_24607.txt'\n",
      " '/tf/data/L60_Lp4_D9_circular_knot41/chain_41_123997.txt'\n",
      " '/tf/data/L60_Lp4_D9_circular_knot31/chain_31_133589.txt']\n",
      "test_x_files shape:  (100000,)\n",
      "test_y snapshot:  [2 0 2 ... 3 2 1]\n",
      "Num of train label 4:  180000\n",
      "Num of train label 0:  180000\n",
      "Num of test label 3:  20000\n",
      "Num of test label 2:  20000\n"
     ]
    }
   ],
   "source": [
    "def unison_shuffled_copies(a, b):\n",
    "    \"\"\" inputs a and b must be np.array,\n",
    "    return lists a and b in rearranged order\"\"\"\n",
    "    assert len(a) == len(b)\n",
    "    p = np.random.permutation(len(a))\n",
    "    return a[p], b[p]\n",
    "\n",
    "\n",
    "# split 90-10\n",
    "cat0_split = split_pct * len(cat0) // 100\n",
    "cat1_split = split_pct * len(cat1) // 100\n",
    "cat2_split = split_pct * len(cat2) // 100\n",
    "cat3_split = split_pct * len(cat3) // 100\n",
    "cat4_split = split_pct * len(cat4) // 100\n",
    "\n",
    "# train_x_files = list of file names of\n",
    "# chain_0, chain_31, chain_41, chain_52, chain_51 file names\n",
    "train_x_files = np.array(\n",
    "    cat0[0:cat0_split] +\n",
    "    cat1[0:cat1_split] +\n",
    "    cat2[0:cat2_split] +\n",
    "    cat3[0:cat3_split] +\n",
    "    cat4[0:cat4_split])\n",
    "\n",
    "# train_y = list of 0-4:\n",
    "# 0 is for chain_0, 1 is for chain_31, 2 is for chain_41\n",
    "# 3 is for chain_52, 4 is for chain_51\n",
    "train_y = np.array(\n",
    "    [0] * cat0_split +\n",
    "    [1] * cat1_split +\n",
    "    [2] * cat2_split +\n",
    "    [3] * cat3_split +\n",
    "    [4] * cat4_split)\n",
    "\n",
    "# rest of test set (10%)\n",
    "test_x_files = np.array(\n",
    "    cat0[cat0_split:] +\n",
    "    cat1[cat1_split:] +\n",
    "    cat2[cat2_split:] +\n",
    "    cat3[cat3_split:] +\n",
    "    cat4[cat4_split:])\n",
    "\n",
    "test_y = np.array(\n",
    "    [0] * (len(cat0) - cat0_split) +\n",
    "    [1] * (len(cat1) - cat1_split) +\n",
    "    [2] * (len(cat2) - cat2_split) +\n",
    "    [3] * (len(cat3) - cat3_split) +\n",
    "    [4] * (len(cat4) - cat4_split))\n",
    "\n",
    "\n",
    "# shuffle the order of knot types after splitting\n",
    "train_x_files, train_y = unison_shuffled_copies(train_x_files, train_y)\n",
    "test_x_files, test_y = unison_shuffled_copies(test_x_files, test_y)\n",
    "\n",
    "print(\"after shuffle>>>\")\n",
    "print(\"train_x_files is list of file names: \", train_x_files)\n",
    "print(\">>>\")\n",
    "print(\"train_y should be list of 0 1 2... ints's: \", train_y)\n",
    "print(\">>>\")\n",
    "print(\"train_x_files shape: \", train_x_files.shape)\n",
    "print(\"train_y shape: \", train_y.shape)\n",
    "print(\">>> test set:\")\n",
    "print(\"test_x_files snapshot: \", test_x_files)\n",
    "print(\"test_x_files shape: \", test_x_files.shape)\n",
    "print(\"test_y snapshot: \", test_y)\n",
    "\n",
    "\n",
    "# verify the labels in y\n",
    "print(\"Num of train label 4: \", np.count_nonzero(train_y == 4))\n",
    "print(\"Num of train label 0: \", np.count_nonzero(train_y == 0))\n",
    "print(\"Num of test label 3: \", np.count_nonzero(test_y == 3))\n",
    "print(\"Num of test label 2: \", np.count_nonzero(test_y == 2))\n",
    "\n",
    "assert np.count_nonzero(train_y == 1) == np.count_nonzero(train_y == 0)\n",
    "assert np.count_nonzero(train_y == 0) == np.count_nonzero(train_y == 2)\n",
    "assert np.count_nonzero(train_y == 2) == np.count_nonzero(train_y == 3)\n",
    "assert np.count_nonzero(train_y == 4) == np.count_nonzero(train_y == 3)\n",
    "assert np.count_nonzero(test_y == 1) == np.count_nonzero(test_y == 0)\n",
    "assert np.count_nonzero(test_y == 0) == np.count_nonzero(test_y == 2)\n",
    "assert np.count_nonzero(test_y == 2) == np.count_nonzero(test_y == 3)\n",
    "assert np.count_nonzero(test_y == 4) == np.count_nonzero(test_y == 3)"
   ]
  },
  {
   "cell_type": "markdown",
   "metadata": {},
   "source": [
    "### Load the xyz coordinate values from text files as array for input x\n",
    "\n",
    "may take a few minutes L60 200K 0-31-41-52-51 == 7-9mins"
   ]
  },
  {
   "cell_type": "code",
   "execution_count": 6,
   "metadata": {},
   "outputs": [
    {
     "name": "stdout",
     "output_type": "stream",
     "text": [
      "train_x.shape is:  (900000, 60, 3)\n",
      "test_x.shape is:  (100000, 60, 3)\n",
      "CPU times: user 5min 1s, sys: 10.7 s, total: 5min 12s\n",
      "Wall time: 5min 12s\n"
     ]
    }
   ],
   "source": [
    "%%time\n",
    "\n",
    "# use float32 with loadtxt\n",
    "train_x = np.array([np.loadtxt(f, dtype=np.float32) for f in train_x_files])\n",
    "test_x = np.array([np.loadtxt(f, dtype=np.float32) for f in test_x_files])\n",
    "\n",
    "print(\"train_x.shape is: \", train_x.shape)\n",
    "print(\"test_x.shape is: \", test_x.shape)"
   ]
  },
  {
   "cell_type": "markdown",
   "metadata": {},
   "source": [
    "### Vectorize label y"
   ]
  },
  {
   "cell_type": "code",
   "execution_count": 7,
   "metadata": {},
   "outputs": [
    {
     "name": "stdout",
     "output_type": "stream",
     "text": [
      "before vectorization:\n",
      "[0 1 2 ... 3 3 0]\n",
      "[2 0 2 ... 3 2 1]\n",
      "use multiclass\n",
      "after vectorize...\n",
      "train_y.dtype, test_y.dtype =\n",
      "float32 float32\n",
      "[[1. 0. 0. 0. 0.]\n",
      " [0. 1. 0. 0. 0.]\n",
      " [0. 0. 1. 0. 0.]\n",
      " ...\n",
      " [0. 0. 0. 1. 0.]\n",
      " [0. 0. 0. 1. 0.]\n",
      " [1. 0. 0. 0. 0.]]\n",
      "[[0. 0. 1. 0. 0.]\n",
      " [1. 0. 0. 0. 0.]\n",
      " [0. 0. 1. 0. 0.]\n",
      " ...\n",
      " [0. 0. 0. 1. 0.]\n",
      " [0. 0. 1. 0. 0.]\n",
      " [0. 1. 0. 0. 0.]]\n"
     ]
    }
   ],
   "source": [
    "print(\"before vectorization:\")\n",
    "print(train_y)\n",
    "print(test_y)\n",
    "\n",
    "if num_knot_types > 2:\n",
    "    print(\"use multiclass\")\n",
    "    # use one-hot encoding for categorical data\n",
    "    train_y = tf.keras.utils.to_categorical(train_y)\n",
    "    test_y = tf.keras.utils.to_categorical(test_y)\n",
    "else:\n",
    "    print(\"use binary\")\n",
    "    train_y = np.asarray(train_y).astype('float32')\n",
    "    test_y = np.asarray(test_y).astype('float32')\n",
    "\n",
    "\n",
    "print(\"after vectorize...\")\n",
    "print(\"train_y.dtype, test_y.dtype =\")\n",
    "print(train_y.dtype, test_y.dtype)\n",
    "\n",
    "print(train_y)\n",
    "print(test_y)"
   ]
  },
  {
   "cell_type": "markdown",
   "metadata": {},
   "source": [
    "### Verify the input and labels"
   ]
  },
  {
   "cell_type": "code",
   "execution_count": 8,
   "metadata": {},
   "outputs": [
    {
     "name": "stdout",
     "output_type": "stream",
     "text": [
      "(900000, 60, 3) (100000, 60, 3) (100000, 5) (900000, 5)\n",
      "3 3 2 2\n",
      "float32 float32 float32 float32\n"
     ]
    }
   ],
   "source": [
    "print(train_x.shape, test_x.shape, test_y.shape, train_y.shape)\n",
    "print(train_x.ndim, test_x.ndim, test_y.ndim, train_y.ndim)\n",
    "print(train_x.dtype, test_x.dtype, test_y.dtype, train_y.dtype)\n",
    "\n",
    "# input x shape\n",
    "assert train_x.shape[1:] == (chain_length, 3)\n",
    "assert test_x.shape[1:] == (chain_length, 3)\n",
    "\n",
    "# xyz always start at origin 0\n",
    "assert np.sum(train_x[9999][0]) == 0\n",
    "assert np.sum(train_x[1000][0]) == 0\n",
    "\n",
    "# dtype\n",
    "assert (train_x.dtype, test_x.dtype, train_y.dtype, test_y.dtype) == (\"float32\", \"float32\", \"float32\", \"float32\")"
   ]
  },
  {
   "cell_type": "markdown",
   "metadata": {},
   "source": [
    "### Visualize some polymer knots"
   ]
  },
  {
   "cell_type": "code",
   "execution_count": 9,
   "metadata": {},
   "outputs": [],
   "source": [
    "def plot_conformation(datas):\n",
    "    \"\"\" \n",
    "    the datas comes in as:\n",
    "    (chain length = num rows in data file) x (xyz dimensions)\n",
    "    \n",
    "    Plots a list of input strands on matplotlib Axes3D \n",
    "    \"\"\"\n",
    "    fig = plt.figure()\n",
    "    ax = fig.gca(projection='3d')\n",
    "    for data in datas:\n",
    "        # [:, 0] takes the first column\n",
    "        xs = data[:,0]\n",
    "        # Your colouring array\n",
    "        T=np.linspace(0,1,np.size(xs))**2\n",
    "        #  print(np.size(xs))\n",
    "        #  print(T)\n",
    "        #  print(np.size(T))\n",
    "        ys = data[:,1]\n",
    "        zs = data[:,2]\n",
    "        # Segement plot and colour depending on T\n",
    "        s = 1 # Segment length\n",
    "        n = len(xs)\n",
    "        for i in range(0,n,s):\n",
    "            ax.plot(\n",
    "                xs[i:i+s+1],\n",
    "                ys[i:i+s+1],\n",
    "                zs=zs[i:i+s+1],\n",
    "                color=(T[n-i-1],T[i],T[i]),\n",
    "                linewidth=2.0\n",
    "            )\n",
    "        #  ax.plot(xs, ys, zs=zs, color=(0.0,0.5,T[0]))\n",
    "        ax.set_xlabel('X axis')\n",
    "        ax.set_ylabel('Y axis')\n",
    "        ax.set_zlabel('Z axis')\n",
    "    plt.show()"
   ]
  },
  {
   "cell_type": "code",
   "execution_count": 10,
   "metadata": {},
   "outputs": [
    {
     "name": "stdout",
     "output_type": "stream",
     "text": [
      "[0. 1. 0. 0. 0.]\n",
      "(60, 3)\n"
     ]
    },
    {
     "data": {
      "image/png": "[encoded data removed]",
      "text/plain": [
       "<Figure size 432x288 with 1 Axes>"
      ]
     },
     "metadata": {
      "needs_background": "light"
     },
     "output_type": "display_data"
    }
   ],
   "source": [
    "%matplotlib inline\n",
    "\n",
    "polymer_id = 42\n",
    "\n",
    "print(train_y[polymer_id])\n",
    "print(train_x[polymer_id].shape)\n",
    "\n",
    "plot_conformation([train_x[polymer_id]])"
   ]
  },
  {
   "cell_type": "code",
   "execution_count": 11,
   "metadata": {},
   "outputs": [
    {
     "name": "stdout",
     "output_type": "stream",
     "text": [
      "[0. 0. 0. 0. 1.]\n",
      "(60, 3)\n"
     ]
    },
    {
     "data": {
      "image/png": "[encoded data removed]",
      "text/plain": [
       "<Figure size 432x288 with 1 Axes>"
      ]
     },
     "metadata": {
      "needs_background": "light"
     },
     "output_type": "display_data"
    }
   ],
   "source": [
    "%matplotlib inline\n",
    "\n",
    "polymer_id = 2024\n",
    "\n",
    "print(train_y[polymer_id])\n",
    "print(train_x[polymer_id].shape)\n",
    "\n",
    "plot_conformation([train_x[polymer_id]])"
   ]
  },
  {
   "cell_type": "code",
   "execution_count": 12,
   "metadata": {},
   "outputs": [
    {
     "name": "stdout",
     "output_type": "stream",
     "text": [
      "[1. 0. 0. 0. 0.]\n",
      "(60, 3)\n"
     ]
    },
    {
     "data": {
      "image/png": "[encoded data removed]",
      "text/plain": [
       "<Figure size 432x288 with 1 Axes>"
      ]
     },
     "metadata": {
      "needs_background": "light"
     },
     "output_type": "display_data"
    }
   ],
   "source": [
    "%matplotlib inline\n",
    "\n",
    "polymer_id = 2023\n",
    "\n",
    "print(train_y[polymer_id])\n",
    "print(train_x[polymer_id].shape)\n",
    "\n",
    "plot_conformation([train_x[polymer_id]])"
   ]
  },
  {
   "cell_type": "markdown",
   "metadata": {},
   "source": [
    "### Normalize the xyz coordinate to relative positions\n",
    "\n",
    "The inputs of the conformation for neural networks are deltas in x, y, z, i.e., the changes in monomer positions in the x, y, and z directions at every step.\n",
    "\n",
    "To improve NN performance, we convert the trajectory of positions to their relative increments from the previous coordinate (Fig. 3). For example, a trajectory of X -coordinates [0, 0.8, 0.5, 1.4, 2.2] is converted\n",
    "to [+0.8, −0.3, +0.9, +0.8].\n",
    "\n",
    "Since the bond length, i.e., the distance between two adjacent monomers, is a unit length, this conversion yields an additional benefit of scaling the data in the [0, 1] range, akin to normalization.\n"
   ]
  },
  {
   "cell_type": "code",
   "execution_count": 13,
   "metadata": {},
   "outputs": [
    {
     "name": "stdout",
     "output_type": "stream",
     "text": [
      "snapshot of train_x[0, :3]:  [[-0.42895    -0.16353    -0.8884    ]\n",
      " [-0.46182    -0.67208    -0.57881993]\n",
      " [ 0.10544002 -0.89299005  0.43754995]]\n",
      "snapshot of test_x[0, :3]:  [[ 0.58381    -0.78484     0.20781   ]\n",
      " [ 0.58548    -0.81058    -0.01322   ]\n",
      " [ 0.59142005 -0.25550997 -0.76482   ]]\n",
      "maxmin for train_x:  1.0000002 -1.0000002\n",
      "maxmin for test_x:  1.0000002 -1.0000001\n"
     ]
    }
   ],
   "source": [
    "train_x = np.diff(train_x, n=1, axis=1)\n",
    "test_x = np.diff(test_x, n=1, axis=1)\n",
    "\n",
    "print(\"snapshot of train_x[0, :3]: \", train_x[0, :3])\n",
    "print(\"snapshot of test_x[0, :3]: \", test_x[0, :3])\n",
    "\n",
    "max_train_x, min_train_x = np.max(train_x), np.min(train_x)\n",
    "max_test_x, min_test_x = np.max(test_x), np.min(test_x)\n",
    "\n",
    "print(\"maxmin for train_x: \", max_train_x, min_train_x)\n",
    "print(\"maxmin for test_x: \", max_test_x, min_test_x)\n",
    "\n",
    "\n",
    "# when using diff, chain_length -= 1\n",
    "assert train_x.shape[1:] == (chain_length -1, 3)\n",
    "assert test_x.shape[1:] == (chain_length -1, 3)\n",
    "\n",
    "# dtype\n",
    "assert (train_x.dtype, test_x.dtype, train_y.dtype, test_y.dtype) == (\"float32\", \"float32\", \"float32\", \"float32\")"
   ]
  },
  {
   "cell_type": "markdown",
   "metadata": {},
   "source": [
    "### Verify the input before feeding them to the model"
   ]
  },
  {
   "cell_type": "code",
   "execution_count": 14,
   "metadata": {},
   "outputs": [
    {
     "name": "stdout",
     "output_type": "stream",
     "text": [
      "[0 1 2 ... 3 3 0]\n",
      "[2 0 2 ... 3 2 1]\n",
      "data sanity tests passed :)\n"
     ]
    }
   ],
   "source": [
    "assert np.max(train_x[0]) < 1.0000005\n",
    "assert np.min(train_x[0]) > -1.0000005\n",
    "assert np.max(test_x[0]) < 1.0000005\n",
    "assert np.min(test_x[0]) > -1.0000005\n",
    "\n",
    "# test for x values\n",
    "num_train_x = train_x.shape[0]\n",
    "assert num_train_x == dataset_size * num_knot_types * split_pct // 100\n",
    "\n",
    "assert train_x.shape[0] + test_x.shape[0] == (dataset_size * num_knot_types)\n",
    "\n",
    "# chaing -=1 for using diff to normalize\n",
    "assert train_x.shape == (num_train_x, chain_length-1, 3)\n",
    "\n",
    "# test for y label\n",
    "assert test_y.shape[0] + train_y.shape[0] == (dataset_size * num_knot_types)\n",
    "\n",
    "if num_knot_types > 2:\n",
    "    assert train_y.shape == (num_train_x, num_knot_types)\n",
    "    rev_train_y = np.array([np.argmax(i, axis=None, out=None) for i in train_y])\n",
    "    print(rev_train_y)\n",
    "    rev_test_y = np.array([np.argmax(i, axis=None, out=None) for i in test_y])\n",
    "    print(rev_test_y)\n",
    "\n",
    "    assert np.count_nonzero(rev_train_y == 1) == np.count_nonzero(rev_train_y == 0)\n",
    "    assert np.count_nonzero(rev_train_y == 1) == np.count_nonzero(rev_train_y == 2)\n",
    "    assert np.count_nonzero(rev_train_y == 1) == np.count_nonzero(rev_train_y == 3)\n",
    "    assert np.count_nonzero(rev_train_y == 1) == np.count_nonzero(rev_train_y == 4)\n",
    "    assert np.count_nonzero(rev_test_y == 1) == np.count_nonzero(rev_test_y == 0)\n",
    "    assert np.count_nonzero(rev_test_y == 1) == np.count_nonzero(rev_test_y == 2)\n",
    "    assert np.count_nonzero(rev_test_y == 1) == np.count_nonzero(rev_test_y == 3)\n",
    "    assert np.count_nonzero(rev_test_y == 1) == np.count_nonzero(rev_test_y == 4)\n",
    "    \n",
    "    assert np.count_nonzero(rev_train_y == 0) == dataset_size * split_pct // 100\n",
    "else:\n",
    "    assert train_y.shape == (num_train_x,)\n",
    "    assert np.count_nonzero(train_y == 1) == np.count_nonzero(train_y == 0)\n",
    "    assert np.count_nonzero(test_y == 1) == np.count_nonzero(test_y == 0)\n",
    "    assert np.count_nonzero(train_y == 0) == dataset_size * split_pct // 100\n",
    "\n",
    "\n",
    "assert len(train_y) + len(test_y) == dataset_size*num_knot_types\n",
    "assert len(train_y) == dataset_size * num_knot_types * split_pct // 100\n",
    "\n",
    "\n",
    "assert len(train_x) == len(train_y)\n",
    "assert len(test_x) == len(test_y)\n",
    "\n",
    "print(\"data sanity tests passed :)\")"
   ]
  },
  {
   "cell_type": "markdown",
   "metadata": {},
   "source": [
    "## Build a model\n",
    "\n",
    "We build a simple LSTM model with bidrectional layers and dropout.\n",
    "\n",
    "The bidirectional layer is an important element as it sends information both forward and backward between sequence steps, effectively processing the sequence from both ends.\n",
    "\n",
    "We want to leverage this forward and backward context-awareness to improve the predictive power of\n",
    "the model when applied to knots in polymer chains, as the knot type is the same regardless of how the sequence is flipped."
   ]
  },
  {
   "cell_type": "code",
   "execution_count": 15,
   "metadata": {},
   "outputs": [
    {
     "name": "stdout",
     "output_type": "stream",
     "text": [
      "use multiclass\n",
      "Model: \"sequential\"\n",
      "_________________________________________________________________\n",
      "Layer (type)                 Output Shape              Param #   \n",
      "=================================================================\n",
      "lstm (LSTM)                  (None, None, 280)         318080    \n",
      "_________________________________________________________________\n",
      "dropout (Dropout)            (None, None, 280)         0         \n",
      "_________________________________________________________________\n",
      "bidirectional (Bidirectional (None, None, 200)         304800    \n",
      "_________________________________________________________________\n",
      "dropout_1 (Dropout)          (None, None, 200)         0         \n",
      "_________________________________________________________________\n",
      "lstm_2 (LSTM)                (None, None, 100)         120400    \n",
      "_________________________________________________________________\n",
      "dropout_2 (Dropout)          (None, None, 100)         0         \n",
      "_________________________________________________________________\n",
      "lstm_3 (LSTM)                (None, None, 100)         80400     \n",
      "_________________________________________________________________\n",
      "dropout_3 (Dropout)          (None, None, 100)         0         \n",
      "_________________________________________________________________\n",
      "lstm_4 (LSTM)                (None, 60)                38640     \n",
      "_________________________________________________________________\n",
      "dense (Dense)                (None, 5)                 305       \n",
      "=================================================================\n",
      "Total params: 862,625\n",
      "Trainable params: 862,625\n",
      "Non-trainable params: 0\n",
      "_________________________________________________________________\n",
      "CPU times: user 781 ms, sys: 15.9 ms, total: 797 ms\n",
      "Wall time: 796 ms\n"
     ]
    }
   ],
   "source": [
    "%%time\n",
    "\n",
    "\n",
    "# model initialization\n",
    "\n",
    "model = models.Sequential()\n",
    "\n",
    "model.add(LSTM(280, input_shape=(None,3), return_sequences=True))\n",
    "model.add(Dropout(0.25))\n",
    "model.add(Bidirectional(LSTM(100, return_sequences=True)))\n",
    "model.add(Dropout(0.25))\n",
    "model.add(LSTM(100, return_sequences=True))\n",
    "model.add(Dropout(0.25))\n",
    "model.add(LSTM(100, return_sequences=True))\n",
    "model.add(Dropout(0.25))\n",
    "model.add(LSTM(60))\n",
    "\n",
    "if num_knot_types > 2:\n",
    "    print(\"use multiclass\")\n",
    "    # for multiclass use softwax\n",
    "    model.add(Dense(num_knot_types, activation='softmax'))\n",
    "else:\n",
    "    print(\"use binary\")\n",
    "    model.add(Dense(1, activation='sigmoid'))\n",
    "\n",
    "model.summary()"
   ]
  },
  {
   "cell_type": "markdown",
   "metadata": {},
   "source": [
    "The number of trainable params (862,625) is the same as the one reported in Table 1 of the publication."
   ]
  },
  {
   "cell_type": "markdown",
   "metadata": {},
   "source": [
    "### Keras Callbacks"
   ]
  },
  {
   "cell_type": "code",
   "execution_count": 16,
   "metadata": {},
   "outputs": [],
   "source": [
    "# for ModelCheckpoint and model saves\n",
    "formatted_time = datetime.datetime.now().strftime(\"%Y%m%d-%H%M%S\")\n",
    "save_model_name = \"{}_L{}_{}K_0-31-41-52-51_\".format(\n",
    "    formatted_time, chain_length, dataset_size//1000)\n",
    "\n",
    "# checkpoint using save_best_only\n",
    "# model weights are written to the file “temp_{save_model_name}.h5” only if\n",
    "# the classification accuracy of the model on the validation dataset improves\n",
    "# over the best seen so far.\n",
    "filepath=\"temp_{}.h5\".format(save_model_name)\n",
    "checkpoint = keras.callbacks.ModelCheckpoint(\n",
    "    filepath,\n",
    "    monitor='val_accuracy',\n",
    "    verbose=1,\n",
    "    save_best_only=True,\n",
    "    mode='max'\n",
    ")\n",
    "\n",
    "\n",
    "# simple early stopping\n",
    "es = keras.callbacks.EarlyStopping(\n",
    "    monitor='val_loss',\n",
    "    verbose=1,\n",
    "    patience=10,\n",
    ")\n",
    "\n",
    "# for loss plateau\n",
    "reduce_lr = keras.callbacks.ReduceLROnPlateau(\n",
    "    monitor='val_loss',\n",
    "    factor=0.1, # usually 0.1\n",
    "    patience=2,\n",
    "    verbose=1\n",
    ")\n",
    "\n",
    "# combined callbacks list\n",
    "callbacks_list = [\n",
    "    reduce_lr,\n",
    "    es,\n",
    "    checkpoint\n",
    "]"
   ]
  },
  {
   "cell_type": "markdown",
   "metadata": {},
   "source": [
    "## Compile and Train"
   ]
  },
  {
   "cell_type": "code",
   "execution_count": 17,
   "metadata": {},
   "outputs": [
    {
     "name": "stdout",
     "output_type": "stream",
     "text": [
      "use multiclass\n"
     ]
    }
   ],
   "source": [
    "if num_knot_types > 2:\n",
    "    print(\"use multiclass\")\n",
    "    # for multiclass\n",
    "    # targets are one-hot encoded, use categorical_crossentropy as the loss;\n",
    "    # if they’re integers, use sparse_categorical_crossentropy\n",
    "    model.compile(optimizer='adam',\n",
    "                  loss='categorical_crossentropy',\n",
    "                  metrics=['accuracy'])\n",
    "else:\n",
    "    print(\"use binary\")\n",
    "    model.compile(optimizer='adam',\n",
    "              loss='binary_crossentropy',\n",
    "              metrics=['accuracy'])"
   ]
  },
  {
   "cell_type": "code",
   "execution_count": null,
   "metadata": {
    "scrolled": false
   },
   "outputs": [
    {
     "name": "stdout",
     "output_type": "stream",
     "text": [
      "Epoch 1/80\n",
      "352/352 [==============================] - 62s 161ms/step - loss: 1.4937 - accuracy: 0.2903 - val_loss: 1.1688 - val_accuracy: 0.4950\n",
      "\n",
      "Epoch 00001: val_accuracy improved from -inf to 0.49497, saving model to temp_20240402-215209_L60_200K_0-31-41-52-51_.h5\n",
      "Epoch 2/80\n",
      " 27/352 [=>............................] - ETA: 47s - loss: 1.1717 - accuracy: 0.4952"
     ]
    }
   ],
   "source": [
    "history = model.fit(\n",
    "    train_x,\n",
    "    train_y,\n",
    "    epochs=80,\n",
    "    batch_size=2048,\n",
    "    callbacks=callbacks_list,\n",
    "    validation_split=0.2  # val = 0.9*0.2=18%\n",
    ")"
   ]
  },
  {
   "cell_type": "markdown",
   "metadata": {},
   "source": [
    "### Training early stopped at ~98% training and validation accuracy\n",
    "\n",
    "Training done for L60 polymers of 5 knot types, on a dataset of 200K for each knot type"
   ]
  },
  {
   "cell_type": "markdown",
   "metadata": {},
   "source": [
    "### Plot the Training and validation Loss and Accuracy"
   ]
  },
  {
   "cell_type": "code",
   "execution_count": null,
   "metadata": {},
   "outputs": [],
   "source": [
    "%matplotlib inline\n",
    "\n",
    "\n",
    "history_dict = history.history\n",
    "loss_values = history_dict['loss']\n",
    "val_loss_values = history_dict['val_loss']\n",
    "\n",
    "epochs = range(1, len(loss_values) + 1)\n",
    "\n",
    "fig = plt.figure()\n",
    "plt.plot(epochs, loss_values, 'bo', label=\"Training loss\")\n",
    "plt.plot(epochs, val_loss_values, 'b', label=\"Validation loss\")\n",
    "plt.title(\"Training and validation loss\")\n",
    "plt.xlabel(\"Epochs\")\n",
    "plt.ylabel(\"Loss\")\n",
    "plt.legend()\n",
    "plt.show()"
   ]
  },
  {
   "cell_type": "code",
   "execution_count": null,
   "metadata": {},
   "outputs": [],
   "source": [
    "%matplotlib inline\n",
    "\n",
    "\n",
    "acc = history_dict[\"accuracy\"]\n",
    "val_acc = history_dict[\"val_accuracy\"]\n",
    "\n",
    "\n",
    "fig = plt.figure()\n",
    "plt.plot(epochs, acc, 'ro', label=\"Training accuracy\")\n",
    "plt.plot(epochs, val_acc, 'r', label=\"Validation accuracy\")\n",
    "plt.title(\"Training and validation accuracy\")\n",
    "plt.xlabel(\"Epochs\")\n",
    "plt.ylabel(\"Accuracy\")\n",
    "plt.legend()\n",
    "plt.show()"
   ]
  },
  {
   "cell_type": "markdown",
   "metadata": {},
   "source": [
    "## Evaluation on Testset\n",
    "\n",
    "Run inference on new data. Here we evaluate on the hold-out 10% test set.\n"
   ]
  },
  {
   "cell_type": "code",
   "execution_count": null,
   "metadata": {},
   "outputs": [],
   "source": [
    "print(\"test_y.shape = \", test_y.shape)\n",
    "\n",
    "test_loss, test_acc = model.evaluate(test_x, test_y)"
   ]
  },
  {
   "cell_type": "markdown",
   "metadata": {},
   "source": [
    "### confusion matrix and other classification metrics"
   ]
  },
  {
   "cell_type": "code",
   "execution_count": null,
   "metadata": {},
   "outputs": [],
   "source": [
    "predictions = model.predict(test_x)"
   ]
  },
  {
   "cell_type": "code",
   "execution_count": null,
   "metadata": {},
   "outputs": [],
   "source": [
    "y_pred = np.argmax(predictions, axis=1)\n",
    "print(\"y_pred = \", y_pred)\n",
    "\n",
    "y_true = np.argmax(test_y, axis=1)\n",
    "print(\"y_true = \", y_true)"
   ]
  },
  {
   "cell_type": "code",
   "execution_count": null,
   "metadata": {},
   "outputs": [],
   "source": [
    "confusion_matrix(y_true, y_pred)"
   ]
  },
  {
   "cell_type": "code",
   "execution_count": null,
   "metadata": {},
   "outputs": [],
   "source": [
    "# balanced_accuracy_score(y_true, y_pred, *[, ...]) Compute the balanced accuracy.\n",
    "balanced_accuracy_score(y_true, y_pred)"
   ]
  }
 ],
 "metadata": {
  "kernelspec": {
   "display_name": "Python 3",
   "language": "python",
   "name": "python3"
  },
  "language_info": {
   "codemirror_mode": {
    "name": "ipython",
    "version": 3
   },
   "file_extension": ".py",
   "mimetype": "text/x-python",
   "name": "python",
   "nbconvert_exporter": "python",
   "pygments_lexer": "ipython3",
   "version": "3.6.9"
  },
  "vscode": {
   "interpreter": {
    "hash": "0966c03d0bb2211efcb1e6081de4fd768bbf8b8ffddab18771c5064f026c13c3"
   }
  }
 },
 "nbformat": 4,
 "nbformat_minor": 5
}
